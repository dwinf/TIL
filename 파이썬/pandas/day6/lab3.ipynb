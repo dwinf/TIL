{
 "cells": [
  {
   "cell_type": "code",
   "execution_count": null,
   "metadata": {},
   "outputs": [],
   "source": [
    "import requests\n",
    "from bs4 import BeautifulSoup\n",
    "import re\n",
    "\n",
    "req = requests.get('https://news.daum.net/ranking/popular') # 파이썬은 문자열 결합시 타입이 동일해야 함\n",
    "#req.encoding = 'utf-8'\n",
    "html = req.text\n",
    "soup = BeautifulSoup(html, 'html.parser')\n",
    "\n",
    "title = soup.select('#mArticle > div.rank_news li strong > a')\n",
    "comname = soup.select('#mArticle > div.rank_news li strong > span')\n",
    "newstitle = []\n",
    "newscomname = []\n",
    "for dom in title:\n",
    "    dom=re.sub(\",\", '', dom.text)\n",
    "    newstitle.append(dom)\n",
    "    print(dom)\n",
    "for dom in comname:\n",
    "    newscomname.append(dom.string)\n",
    "    print(dom.string)\n",
    "    \n",
    "with open('output/news.csv', \"wt\", encoding=\"utf-8\") as f:\n",
    "    f.write('newstitle,newscomname\\n')  \n",
    "    for i in range(len(newstitle)):\n",
    "        f.write(newstitle[i]+\",\"+newscomname[i]+'\\n')  "
   ]
  },
  {
   "cell_type": "code",
   "execution_count": null,
   "metadata": {},
   "outputs": [],
   "source": [
    "import pandas as pd\n",
    "\n",
    "# ver.1\n",
    "# df = pd.DataFrame({'newstitle':newstitle, 'newscomname':newscomname})\n",
    "df = pd.DataFrame([newstitle, newscomname], index=['newstitle', 'newcomname'])\n",
    "df = pd.DataFrame(data)\n",
    "df = df.transpose()\n",
    "display(df)\n",
    "\n",
    "# ver.2\n",
    "data = {\n",
    "    'newstitle':newstitle, \n",
    "    'newscomname':newscomname\n",
    "}\n",
    "df = pd.DataFrame(data)\n",
    "\n",
    "\n",
    "df.to_csv('./output/news_new.csv', index=False)"
   ]
  },
  {
   "cell_type": "code",
   "execution_count": null,
   "metadata": {},
   "outputs": [],
   "source": []
  }
 ],
 "metadata": {
  "kernelspec": {
   "display_name": "pydatavenv",
   "language": "python",
   "name": "pydatavenv"
  },
  "language_info": {
   "codemirror_mode": {
    "name": "ipython",
    "version": 3
   },
   "file_extension": ".py",
   "mimetype": "text/x-python",
   "name": "python",
   "nbconvert_exporter": "python",
   "pygments_lexer": "ipython3",
   "version": "3.8.8"
  }
 },
 "nbformat": 4,
 "nbformat_minor": 4
}
