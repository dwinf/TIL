{
 "cells": [
  {
   "cell_type": "code",
   "execution_count": 59,
   "metadata": {},
   "outputs": [],
   "source": [
    "from selenium import webdriver\n",
    "\n",
    "driver = webdriver.Chrome('C:/Temp/chromedriver')\n",
    "driver.implicitly_wait(3) \n",
    "\n",
    "driver.get(\"https://hotel.naver.com/hotels/item?hotelId=hotel:Shilla_Stay_Yeoksam&destination_kor=%EC%8B%A0%EB%9D%BC%EC%8A%A4%ED%85%8C%EC%9D%B4%20%EC%97%AD%EC%82%BC&rooms=2\")\n",
    "import time\n",
    "time.sleep(2)\n",
    "\n",
    "readLinks = driver.find_elements_by_css_selector('ul > li.ng-scope.item_ta > a')\n",
    "for readlink in readLinks :\n",
    "    readlink.click()\n",
    "    time.sleep(1)\n",
    "\n",
    "reviewList = []\n",
    "while True:\n",
    "    reviews = driver.find_elements_by_css_selector('div.review_ta.ng-scope li > div.review_desc > p')\n",
    "    more = driver.find_elements_by_xpath('//ul/li/div[2]/p/span')\n",
    "    \n",
    "    for btnm in more:\n",
    "        if btnm.get_attribute('class') == 'sp_hotel ico_arrow':\n",
    "            btnm.click()\n",
    "            \n",
    "    for review in reviews:\n",
    "        reviewList.append(review.text+'\\n')\n",
    "\n",
    "    btn = driver.find_element_by_css_selector('div.review_ta.ng-scope > div.paginate > a.direction.next')\n",
    "\n",
    "    if not btn.get_attribute('class') == \"direction next\":\n",
    "        break\n",
    "    btn.click()\n",
    "    time.sleep(1)\n",
    "    \n",
    "wfile = open(\"output/naverhotel.txt\",\"w\", encoding=\"utf-8\") \n",
    "wfile.writelines(reviewList) \n",
    "wfile.close()"
   ]
  },
  {
   "cell_type": "code",
   "execution_count": 83,
   "metadata": {},
   "outputs": [],
   "source": [
    "from selenium import webdriver\n",
    "\n",
    "driver = webdriver.Chrome('C:/Temp/chromedriver')\n",
    "driver.implicitly_wait(3) \n",
    "\n",
    "driver.get(\"https://hotel.naver.com/hotels/item?hotelId=hotel:Shilla_Stay_Yeoksam&destination_kor=%EC%8B%A0%EB%9D%BC%EC%8A%A4%ED%85%8C%EC%9D%B4%20%EC%97%AD%EC%82%BC&rooms=2\")\n",
    "import time\n",
    "time.sleep(2)\n",
    "\n",
    "reviewList=[]\n",
    "\n",
    "while True:\n",
    "    more = driver.find_elements_by_css_selector('ul > li span.ico_arrow.sp_hotel')\n",
    "    for btnm in more:\n",
    "        btnm.click()\n",
    "    time.sleep(2)\n",
    "    \n",
    "    reviews = driver.find_elements_by_css_selector('ul > li > div.good_bad div > span.txt_review > em.txt_comment.ng-binding') # 더보기보다 먼저 할 경우 에러\n",
    "    for review in reviews:\n",
    "        reviewList.append(review.text+'\\n')\n",
    "        \n",
    "    btn = driver.find_element_by_css_selector('div.review_bk.ng-scope > div.paginate > a.direction.next')\n",
    "\n",
    "    if not btn.get_attribute('class') == \"direction next\":\n",
    "        break\n",
    "    btn.click()\n",
    "    time.sleep(2)\n",
    "    \n",
    "wfile = open(\"output/naverhotel2.txt\",\"w\", encoding=\"utf-8\") \n",
    "wfile.writelines(reviewList) \n",
    "wfile.close()"
   ]
  },
  {
   "cell_type": "code",
   "execution_count": null,
   "metadata": {},
   "outputs": [],
   "source": []
  }
 ],
 "metadata": {
  "kernelspec": {
   "display_name": "pydatavenv",
   "language": "python",
   "name": "pydatavenv"
  },
  "language_info": {
   "codemirror_mode": {
    "name": "ipython",
    "version": 3
   },
   "file_extension": ".py",
   "mimetype": "text/x-python",
   "name": "python",
   "nbconvert_exporter": "python",
   "pygments_lexer": "ipython3",
   "version": "3.8.8"
  }
 },
 "nbformat": 4,
 "nbformat_minor": 4
}
