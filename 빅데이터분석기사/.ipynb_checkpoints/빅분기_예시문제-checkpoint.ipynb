{
 "cells": [
  {
   "cell_type": "markdown",
   "id": "e6679282-8be0-4719-9c2f-b4175e638118",
   "metadata": {},
   "source": [
    "# 제1작업형"
   ]
  },
  {
   "cell_type": "code",
   "execution_count": null,
   "id": "82f07752-d4f0-4faf-85e6-908b560b15d9",
   "metadata": {},
   "outputs": [],
   "source": [
    "import pandas as pd\n",
    "a = pd.read_csv('data/mtcars.csv', index_col=0)\n",
    "from sklearn.preprocessing import MinMaxScaler\n",
    "minmax=MinMaxScaler()\n",
    "minmax.fit(a)\n",
    "scaled=minmax.transform(a)\n",
    "qsec_scaled=scaled[:, 6]\n",
    "b = qsec_scaled > 0.5\n",
    "print(sum(b))"
   ]
  },
  {
   "cell_type": "code",
   "execution_count": null,
   "id": "448b81cd-38a9-4dae-a93e-c7f349615a03",
   "metadata": {},
   "outputs": [],
   "source": [
    "import pandas as pd\n",
    "a = pd.read_csv('data/mtcars.csv', index_col=0)\n",
    "b= a['qsec']\n",
    "min=b.min()\n",
    "max=b.max()\n",
    "c=(b-min)/(max-min)\n",
    "d=c>0.5 \n",
    "print(sum(d))"
   ]
  },
  {
   "cell_type": "code",
   "execution_count": null,
   "id": "a516192f-f377-458f-9589-84612f384eb9",
   "metadata": {},
   "outputs": [],
   "source": []
  }
 ],
 "metadata": {
  "kernelspec": {
   "display_name": "Python 3",
   "language": "python",
   "name": "python3"
  },
  "language_info": {
   "codemirror_mode": {
    "name": "ipython",
    "version": 3
   },
   "file_extension": ".py",
   "mimetype": "text/x-python",
   "name": "python",
   "nbconvert_exporter": "python",
   "pygments_lexer": "ipython3",
   "version": "3.6.13"
  }
 },
 "nbformat": 4,
 "nbformat_minor": 5
}
