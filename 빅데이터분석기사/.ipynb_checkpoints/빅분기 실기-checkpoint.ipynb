{
 "cells": [
  {
   "cell_type": "code",
   "execution_count": 7,
   "id": "7120fdc8-17ee-4e7d-985e-2c7e56f4ce15",
   "metadata": {},
   "outputs": [
    {
     "name": "stdout",
     "output_type": "stream",
     "text": [
      "                0       1\n",
      "0         absl-py  0.14.1\n",
      "1           anyio   3.3.2\n",
      "2         apriori   1.0.0\n",
      "3          apyori   1.1.2\n",
      "4     argon2-cffi  21.1.0\n",
      "..            ...     ...\n",
      "163  wincertstore     0.2\n",
      "164     wordcloud   1.8.1\n",
      "165         wrapt  1.12.1\n",
      "166          xlrd   2.0.1\n",
      "167          zipp   3.6.0\n",
      "\n",
      "[168 rows x 2 columns]\n"
     ]
    }
   ],
   "source": [
    "import pkg_resources \n",
    "import pandas as pd\n",
    "OutputDataSet = pd.DataFrame(sorted([(i.key, i.version) for i in pkg_resources.working_set])) \n",
    "\n",
    "# pd.set_option('display.max_row', 15)\n",
    "print(OutputDataSet)"
   ]
  },
  {
   "cell_type": "code",
   "execution_count": null,
   "id": "7fa26841-f2ce-449a-9861-e9fd3d8d109d",
   "metadata": {},
   "outputs": [],
   "source": []
  }
 ],
 "metadata": {
  "kernelspec": {
   "display_name": "Python 3",
   "language": "python",
   "name": "python3"
  },
  "language_info": {
   "codemirror_mode": {
    "name": "ipython",
    "version": 3
   },
   "file_extension": ".py",
   "mimetype": "text/x-python",
   "name": "python",
   "nbconvert_exporter": "python",
   "pygments_lexer": "ipython3",
   "version": "3.6.13"
  }
 },
 "nbformat": 4,
 "nbformat_minor": 5
}
