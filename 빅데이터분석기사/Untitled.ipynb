{
 "cells": [
  {
   "cell_type": "markdown",
   "id": "45838075-f736-4e1f-afaf-674a927ca99f",
   "metadata": {},
   "source": [
    "## 작업형 2-1\n",
    "\n",
    "#### 다음은 Boston Housing 데이터셋이다. crim 항목의 상위에서 10번째 값 (즉, 상위 10번째 값 중에서 가장 작은 값)으로 상위 10개의 값을 변환하고 age 80 이상인 값에 대하여 crim 평균을 구하시오"
   ]
  },
  {
   "cell_type": "code",
   "execution_count": 17,
   "id": "402ad6d4-f994-4303-82f8-12e780e0ad07",
   "metadata": {},
   "outputs": [
    {
     "data": {
      "text/plain": [
       "crim        5.759387\n",
       "zn          1.114583\n",
       "indus      15.707917\n",
       "chas        0.091667\n",
       "nox         0.640550\n",
       "rm          6.116158\n",
       "age        93.230833\n",
       "dis         2.375284\n",
       "rad        13.512500\n",
       "tax       498.258333\n",
       "pratio     18.959583\n",
       "b         330.114625\n",
       "lstat      16.893792\n",
       "medv       19.145417\n",
       "dtype: float64"
      ]
     },
     "execution_count": 17,
     "metadata": {},
     "output_type": "execute_result"
    }
   ],
   "source": [
    "import pandas as pd\n",
    "\n",
    "data = pd.read_csv('boston_housing.csv')\n",
    "data[['crim']].sort_values('crim', ascending =False).head(15) # 25.9406\n",
    "\n",
    "def cha(x):\n",
    "    if x >= 25.9406:\n",
    "        x = 25.9406\n",
    "        \n",
    "    return x\n",
    "\n",
    "data['crim'] = data['crim'].apply(cha)\n",
    "data[['crim']].sort_values('crim', ascending =False).head(15) # 25.9406\n",
    "\n",
    "data[data['age']>=80].mean()"
   ]
  },
  {
   "cell_type": "code",
   "execution_count": null,
   "id": "6c65ef70-97c1-4527-a237-a9815a76404b",
   "metadata": {},
   "outputs": [],
   "source": []
  }
 ],
 "metadata": {
  "kernelspec": {
   "display_name": "Python 3",
   "language": "python",
   "name": "python3"
  },
  "language_info": {
   "codemirror_mode": {
    "name": "ipython",
    "version": 3
   },
   "file_extension": ".py",
   "mimetype": "text/x-python",
   "name": "python",
   "nbconvert_exporter": "python",
   "pygments_lexer": "ipython3",
   "version": "3.6.13"
  }
 },
 "nbformat": 4,
 "nbformat_minor": 5
}
