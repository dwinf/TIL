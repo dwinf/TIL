{
 "cells": [
  {
   "cell_type": "markdown",
   "id": "b04cb381-3211-44ca-9ae4-c344f197c1b9",
   "metadata": {},
   "source": [
    "## 작업형 3\n",
    "\n",
    "#### 아래 E-Commerce Shipping Data의 train set을 참조하여 고객이 주문한 물품의 정시 도착 여부를 예측하시오. \n",
    "#### (ID와 예측치를 csv 파일로 저장하여 제출하시오)"
   ]
  },
  {
   "cell_type": "code",
   "execution_count": 58,
   "id": "a82f1886-131d-4944-9bae-2548f0aa91cb",
   "metadata": {},
   "outputs": [],
   "source": [
    "import pandas as pd\n",
    "test = pd.read_csv(\"X_test.csv\")\n",
    "X = pd.read_csv(\"X_train.csv\")\n",
    "y = pd.read_csv(\"y_train.csv\")\n",
    "\n",
    "X_str = X[['Warehouse_block', 'Mode_of_Shipment', 'Product_importance', 'Gender']]\n",
    "X_num = X[['Customer_care_calls', 'Customer_rating', 'Cost_of_the_Product', 'Prior_purchases', 'Discount_offered', 'Weight_in_gms']]\n",
    "X_str = pd.get_dummies(X_str)\n",
    "\n",
    "test_str = X[['Warehouse_block', 'Mode_of_Shipment', 'Product_importance', 'Gender']]\n",
    "test_num = X[['Customer_care_calls', 'Customer_rating', 'Cost_of_the_Product', 'Prior_purchases', 'Discount_offered', 'Weight_in_gms']]\n",
    "test_str = pd.get_dummies(test_str)\n",
    "\n",
    "X_str, test_str = X_str.align(test_str, join='inner', axis=1)\n",
    "\n",
    "from sklearn.preprocessing import MinMaxScaler\n",
    "scaler = MinMaxScaler()\n",
    "scaler.fit(X_num)\n",
    "X_scaled = scaler.transform(X_num)\n",
    "test_scaled = scaler.transform(test_num)\n",
    "\n",
    "X_fin = pd.concat([X_str, pd.DataFrame(X_scaled)], axis=1)\n",
    "test_fin = pd.concat([test_str, pd.DataFrame(test_scaled)], axis=1)\n",
    "\n",
    "y = y['Reached.on.Time_Y.N']\n",
    "\n",
    "from sklearn.ensemble import RandomForestClassifier\n",
    "from sklearn.metrics import *\n",
    "model = RandomForestClassifier()\n",
    "model.fit(X_fin, y)\n",
    "pred_train = model.predict_proba(X_fin)\n",
    "roc_auc_score(y, pred_train[:,1])\n",
    "\n",
    "\n",
    "pred_test = model.predict_proba(test_fin)\n",
    "pred_test_pos = pred_test[:,1]\n",
    "#print(pred_train)\n",
    "roc_auc_score(y, pred_test_pos)\n",
    "\n",
    "a = pd.DataFrame(pred_test_pos, columns=['predict_prob'])\n",
    "complete = pd.concat([test['ID'], a], axis=1)\n",
    "# complete = pd.DataFrame({'ID':testID, 'predict_prob':pred_test_pos})\n",
    "complete.to_csv(\"20211204.csv\", index=False)"
   ]
  },
  {
   "cell_type": "code",
   "execution_count": 36,
   "id": "6b2035ec-8663-46cd-8445-ac8af89d8437",
   "metadata": {},
   "outputs": [
    {
     "data": {
      "text/plain": [
       "GridSearchCV(cv=5, estimator=RandomForestClassifier(),\n",
       "             param_grid={'max_features': ['auto', 'sqrt', 'log2'],\n",
       "                         'n_estimators': range(100, 1000, 100)})"
      ]
     },
     "execution_count": 36,
     "metadata": {},
     "output_type": "execute_result"
    }
   ],
   "source": [
    "param_grid={'n_estimators': range(100, 1000, 100), # 100, 200, 300, ..., 1000\n",
    "            'max_features': ['auto', 'sqrt', 'log2']}\n",
    "from sklearn.model_selection import GridSearchCV\n",
    "grid_search=GridSearchCV(RandomForestClassifier(), param_grid, cv=5)\n",
    "grid_search.fit(X_fin, y)"
   ]
  },
  {
   "cell_type": "code",
   "execution_count": 61,
   "id": "9a3cc9e4-844f-432e-9583-e36949a70d32",
   "metadata": {},
   "outputs": [
    {
     "name": "stdout",
     "output_type": "stream",
     "text": [
      "{'max_features': 'sqrt', 'n_estimators': 200}\n"
     ]
    }
   ],
   "source": [
    "print(grid_search.best_params_)"
   ]
  }
 ],
 "metadata": {
  "kernelspec": {
   "display_name": "Python 3",
   "language": "python",
   "name": "python3"
  },
  "language_info": {
   "codemirror_mode": {
    "name": "ipython",
    "version": 3
   },
   "file_extension": ".py",
   "mimetype": "text/x-python",
   "name": "python",
   "nbconvert_exporter": "python",
   "pygments_lexer": "ipython3",
   "version": "3.6.13"
  }
 },
 "nbformat": 4,
 "nbformat_minor": 5
}
