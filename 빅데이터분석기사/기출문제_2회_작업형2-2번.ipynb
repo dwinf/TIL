{
 "cells": [
  {
   "cell_type": "markdown",
   "id": "f9d391a9",
   "metadata": {},
   "source": [
    "## 작업형 2-2\n",
    "\n",
    "#### 주어진 데이터의 첫 번째 행부터 순서대로 80%까지의 데이터를 훈련 데이터로 추출 후 ‘total_bedrooms’ 변수의 결측값(NA)을 ‘total_bedrooms’ 변수의 중앙값으로 대체하고 대체 전의 ‘total_bedrooms’ 변수 표준편차 값의 차이의 절댓값을 구하시오"
   ]
  },
  {
   "cell_type": "code",
   "execution_count": 1,
   "id": "334880e6",
   "metadata": {},
   "outputs": [
    {
     "name": "stdout",
     "output_type": "stream",
     "text": [
      "1.9751472916456692\n"
     ]
    }
   ],
   "source": [
    "import pandas as pd\n",
    "data=pd.read_csv('california_housing.csv')\n",
    "# print(data.info())\n",
    "data_80=data[:16512]\n",
    "# print(len(data_80))\n",
    "pre_std=data_80['total_bedrooms'].std()\n",
    "# print(pre_std)\n",
    "data_80_fill=data_80.fillna(data_80.median())\n",
    "post_std=data_80_fill['total_bedrooms'].std()\n",
    "# print(post_std)\n",
    "print(abs(pre_std-post_std))"
   ]
  },
  {
   "cell_type": "code",
   "execution_count": 2,
   "id": "e8be75e0-789d-4245-bba3-c5229f5300e3",
   "metadata": {},
   "outputs": [
    {
     "name": "stdout",
     "output_type": "stream",
     "text": [
      "1.9749908183319462\n"
     ]
    }
   ],
   "source": [
    "import pandas as pd\n",
    "import numpy as np\n",
    "data=pd.read_csv('california_housing.csv')\n",
    "#data.info()\n",
    "# print(20640*0.8)\n",
    "\n",
    "# 훈련 데이터 추출\n",
    "data2 = data.loc[:16512,'total_bedrooms']\n",
    "\n",
    "# 중앙값 대체\n",
    "data3 = data2.fillna(data2.median())\n",
    "\n",
    "# 표준편차의 차이\n",
    "print(abs(data2.std()-data3.std()))"
   ]
  }
 ],
 "metadata": {
  "kernelspec": {
   "display_name": "Python 3",
   "language": "python",
   "name": "python3"
  },
  "language_info": {
   "codemirror_mode": {
    "name": "ipython",
    "version": 3
   },
   "file_extension": ".py",
   "mimetype": "text/x-python",
   "name": "python",
   "nbconvert_exporter": "python",
   "pygments_lexer": "ipython3",
   "version": "3.6.13"
  }
 },
 "nbformat": 4,
 "nbformat_minor": 5
}
