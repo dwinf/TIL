{
 "cells": [
  {
   "cell_type": "markdown",
   "id": "f9d391a9",
   "metadata": {},
   "source": [
    "## 작업형 2-1\n",
    "\n",
    "#### 다음은 Boston Housing 데이터셋이다. crim 항목의 상위에서 10번째 값 (즉, 상위 10번째 값 중에서 가장 작은 값)으로 상위 10개의 값을 변환하고 age 80 이상인 값에 대하여 crim 평균을 구하시오"
   ]
  },
  {
   "cell_type": "code",
   "execution_count": 3,
   "id": "334880e6",
   "metadata": {},
   "outputs": [
    {
     "name": "stdout",
     "output_type": "stream",
     "text": [
      "6.710740791666667\n"
     ]
    }
   ],
   "source": [
    "import pandas as pd\n",
    "data=pd.read_csv('boston_housing.csv')\n",
    "# print(data.sort_values(by='crim', ascending=False))\n",
    "data_sort=data.sort_values(by='crim', ascending=False)\n",
    "# print(data_sort.head(12))\n",
    "\n",
    "def recode(series):\n",
    "    if series>=25.9406:\n",
    "        return 25.9406\n",
    "    else:\n",
    "        return series\n",
    "\n",
    "data_sort['re_crim']=data_sort['crim'].apply(recode)\n",
    "# print(data_sort.head(20))\n",
    "\n",
    "data_80 = data_sort[data_sort['age'] >=80]\n",
    "# print(data_80.head(50))\n",
    "print(data_80['crim'].mean())"
   ]
  },
  {
   "cell_type": "code",
   "execution_count": 4,
   "id": "82a45c53",
   "metadata": {},
   "outputs": [
    {
     "data": {
      "text/plain": [
       "5.759386625"
      ]
     },
     "execution_count": 4,
     "metadata": {},
     "output_type": "execute_result"
    }
   ],
   "source": [
    "import pandas as pd\n",
    "boston = pd.read_csv('boston_housing.csv')\n",
    "#boston['crim'].sort_values(ascending=False).head(10)\n",
    "\n",
    "def trans_val(i):\n",
    "    if i >= 25.9406:\n",
    "        return 25.9406\n",
    "    else:\n",
    "        return i\n",
    "        \n",
    "boston['Rcrim'] = boston['crim'].apply(trans_val)\n",
    "boston['Rcrim'].sort_values(ascending=False).head(15)\n",
    "\n",
    "over80 = boston[boston['age']>=80]\n",
    "over80['Rcrim'].mean()"
   ]
  },
  {
   "cell_type": "code",
   "execution_count": 5,
   "id": "9be592f7-bcf4-48a9-ae4c-b1c446c62fb2",
   "metadata": {},
   "outputs": [
    {
     "data": {
      "text/plain": [
       "5.759386625"
      ]
     },
     "execution_count": 5,
     "metadata": {},
     "output_type": "execute_result"
    }
   ],
   "source": [
    "import pandas as pd\n",
    "\n",
    "data = pd.read_csv('boston_housing.csv')\n",
    "data[['crim']].sort_values('crim', ascending =False).head(15) # 25.9406\n",
    "\n",
    "def cha(x):\n",
    "    if x >= 25.9406:\n",
    "        x = 25.9406\n",
    "        \n",
    "    return x\n",
    "\n",
    "data['crim'] = data['crim'].apply(cha)\n",
    "data[['crim']].sort_values('crim', ascending =False).head(15) # 25.9406\n",
    "\n",
    "data2 = data[data['age']>=80].mean()\n",
    "data2['crim']"
   ]
  },
  {
   "cell_type": "code",
   "execution_count": null,
   "id": "8544d605-9df3-4895-84a6-82a508436ade",
   "metadata": {},
   "outputs": [],
   "source": []
  }
 ],
 "metadata": {
  "kernelspec": {
   "display_name": "Python 3",
   "language": "python",
   "name": "python3"
  },
  "language_info": {
   "codemirror_mode": {
    "name": "ipython",
    "version": 3
   },
   "file_extension": ".py",
   "mimetype": "text/x-python",
   "name": "python",
   "nbconvert_exporter": "python",
   "pygments_lexer": "ipython3",
   "version": "3.6.13"
  }
 },
 "nbformat": 4,
 "nbformat_minor": 5
}
