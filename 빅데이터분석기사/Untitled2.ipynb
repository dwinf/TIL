{
 "cells": [
  {
   "cell_type": "markdown",
   "id": "85d152f9-a7e8-4fc0-bf54-be886dc8ce4a",
   "metadata": {},
   "source": [
    "## 작업형 2-3\n",
    "\n",
    "#### 다음은 Insurance 데이터셋이다. charges 항목의 이상값의 합을 구하시오\n",
    "##### (이상값은 평균에서 1.5표준편차 이상인 값)"
   ]
  },
  {
   "cell_type": "code",
   "execution_count": 16,
   "id": "90e3198e-67ff-4697-bb11-09f3090d4e7b",
   "metadata": {},
   "outputs": [
    {
     "name": "stdout",
     "output_type": "stream",
     "text": [
      "-4894.594589899745\n"
     ]
    }
   ],
   "source": [
    "import pandas as pd\n",
    "data=pd.read_csv('insurance.csv')\n",
    "\n",
    "data2 = data[['charges']]\n",
    "\n",
    "outlier1 = data2['charges'].mean() + 1.5 * data2['charges'].std()\n",
    "outlier2 = data2['charges'].mean() - 1.5 * data2['charges'].std()\n",
    "\n",
    "sum_outlier = data2[(data2['charges'] >= outlier1) | (data2['charges'] <= outlier2)].sum()\n",
    "print(outlier2)"
   ]
  }
 ],
 "metadata": {
  "kernelspec": {
   "display_name": "Python 3",
   "language": "python",
   "name": "python3"
  },
  "language_info": {
   "codemirror_mode": {
    "name": "ipython",
    "version": 3
   },
   "file_extension": ".py",
   "mimetype": "text/x-python",
   "name": "python",
   "nbconvert_exporter": "python",
   "pygments_lexer": "ipython3",
   "version": "3.6.13"
  }
 },
 "nbformat": 4,
 "nbformat_minor": 5
}
