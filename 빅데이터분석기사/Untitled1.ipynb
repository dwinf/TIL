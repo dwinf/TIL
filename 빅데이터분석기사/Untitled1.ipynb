{
 "cells": [
  {
   "cell_type": "markdown",
   "id": "a35dd62b-c018-4567-8492-54a85e192caf",
   "metadata": {},
   "source": [
    "## 작업형 2-2\n",
    "\n",
    "#### 주어진 데이터의 첫 번째 행부터 순서대로 80%까지의 데이터를 훈련 데이터로 추출 후 ‘total_bedrooms’ 변수의 결측값(NA)을 ‘total_bedrooms’ 변수의 중앙값으로 대체하고 대체 전의 ‘total_bedrooms’ 변수 표준편차 값의 차이의 절댓값을 구하시오"
   ]
  },
  {
   "cell_type": "code",
   "execution_count": 13,
   "id": "6381caa4-767c-4301-ab2c-f17fd55ec02f",
   "metadata": {},
   "outputs": [
    {
     "name": "stdout",
     "output_type": "stream",
     "text": [
      "1.9749908183319462\n"
     ]
    }
   ],
   "source": [
    "import pandas as pd\n",
    "import numpy as np\n",
    "data=pd.read_csv('california_housing.csv')\n",
    "#data.info()\n",
    "# print(20640*0.8)\n",
    "\n",
    "# 훈련 데이터 추출\n",
    "data2 = data.loc[:16512,'total_bedrooms']\n",
    "#data2\n",
    "\n",
    "data3 = data2.fillna(data2.median())\n",
    "\n",
    "print(data2.std()-data3.std())\n"
   ]
  }
 ],
 "metadata": {
  "kernelspec": {
   "display_name": "Python 3",
   "language": "python",
   "name": "python3"
  },
  "language_info": {
   "codemirror_mode": {
    "name": "ipython",
    "version": 3
   },
   "file_extension": ".py",
   "mimetype": "text/x-python",
   "name": "python",
   "nbconvert_exporter": "python",
   "pygments_lexer": "ipython3",
   "version": "3.6.13"
  }
 },
 "nbformat": 4,
 "nbformat_minor": 5
}
