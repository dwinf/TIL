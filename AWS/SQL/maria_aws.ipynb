{
 "cells": [
  {
   "cell_type": "markdown",
   "metadata": {},
   "source": [
    "# **pymysql을 이용한 MariaDB 연동**\n",
    "### connect() 함수를 이용하면 MySQL host내 DB와 직접 연결할 수 있다.\n",
    "\n",
    "###    user: user name\n",
    "###    passwd: 설정한 패스워드\n",
    "###    host: DB가 존재하는 host\n",
    "###    db: 연결할 데이터베이스 이름\n",
    "###    charset: 인코딩 설정"
   ]
  },
  {
   "cell_type": "code",
   "execution_count": null,
   "metadata": {},
   "outputs": [],
   "source": [
    "import pymysql\n",
    "conn = pymysql.connect(host='database-big-a.cljkqcsbb9ok.ap-northeast-2.rds.amazonaws.com',port=3306,user='edu',passwd='multi1234!', db='unicodb')\n",
    "print(conn)"
   ]
  },
  {
   "cell_type": "code",
   "execution_count": null,
   "metadata": {},
   "outputs": [],
   "source": [
    "cur = conn.cursor()\n",
    "print(type(cur))\n",
    "print(\"-----------------------\")\n",
    "sql = 'SELECT * FROM emp'\n",
    "cur.execute(sql)\n",
    "result = cur.fetchall()\n",
    "print(type(result))\n",
    "print(result)  \n",
    "#conn.close()"
   ]
  },
  {
   "cell_type": "markdown",
   "metadata": {},
   "source": [
    "## Cursor 객체 생성\n",
    "### 연결한 DB와 상호작용하기 위해 cursor 객체를 생성해주어야 한다.\n",
    "### 다양한 커서의 종류가 있지만,\n",
    "### 데이터 분석가에게 익숙한 데이터프레임 형태로 결과를 쉽게 변환할 수 있도록\n",
    "### **딕셔너리** 형태로 결과를 반환해주는 **DictCursor**객체를 주로 사용한다.\n",
    "### 일반 **Cursor**객체를 사용하면 결과가 일반적으로는 **튜플** 형태로 리턴된다.\n",
    "----\n",
    "### SELECT 명령을 위해 SQL 문을 따로 변수에 넣어주고 cursor.execute(sql) 을 사용해 SQL를 실행한다.\n",
    "### 실행한 결과를 fetchall(), fetchone() 등으로 받아 온다.\n",
    "\n",
    "### **fetchall()** - 모든 데이터를 한 번에 가져올 때 사용\n",
    "### **fetchone()** - 한 번 호출에 하나의 행만 가져올 때 사용\n",
    "### **fetchmany(n)** - n개만큼의 데이터를 가져올 때 사용"
   ]
  },
  {
   "cell_type": "code",
   "execution_count": null,
   "metadata": {},
   "outputs": [],
   "source": [
    "try:\n",
    "    cur = conn.cursor()\n",
    "    print(type(cur))\n",
    "    print(\"-----------------------\")\n",
    "    sql = 'SELECT * FROM emp'\n",
    "    cur.execute(sql)\n",
    "    result = cur.fetchall()\n",
    "    print(type(result))\n",
    "    print(result)\n",
    "    print(\"----------------------------------------------\")\n",
    "    print(type(result[0]))\n",
    "    print(result[0])\n",
    "    print(\"----------------------------------------------\")\n",
    "    print(len(result))\n",
    "    print(len(result[0]))\n",
    "    print(\"----------------------------------------------\")\n",
    "    for row in result:        \n",
    "        print(f'{row[0]} {row[1]} {row[2]} {row[3]} {row[4]} {row[5]} {row[6]} {row[7]}')\n",
    "finally:\n",
    "    conn.close()"
   ]
  },
  {
   "cell_type": "code",
   "execution_count": null,
   "metadata": {},
   "outputs": [],
   "source": [
    "df = pd.DataFrame(result)\n",
    "df"
   ]
  },
  {
   "cell_type": "code",
   "execution_count": null,
   "metadata": {},
   "outputs": [],
   "source": [
    "df = pd.DataFrame(result, columns=[\"empno\",\"ename\",\"job\",\"mgr\",\"hiredate\",\"sal\", \"comm\", \"deptno\"])\n",
    "df"
   ]
  },
  {
   "cell_type": "code",
   "execution_count": 39,
   "metadata": {},
   "outputs": [
    {
     "name": "stdout",
     "output_type": "stream",
     "text": [
      "<class 'dict'>\n",
      "{'empno': 7369, 'ename': 'SMITH', 'job': 'CLERK', 'mgr': 7902, 'hiredate': datetime.date(1980, 12, 17), 'sal': 800, 'comm': 0, 'deptno': 20}\n",
      "----------------------------------------------\n",
      "<class 'dict'>\n",
      "{'empno': 7499, 'ename': 'ALLEN', 'job': 'SALESMAN', 'mgr': 7698, 'hiredate': datetime.date(1981, 2, 20), 'sal': 1600, 'comm': 300, 'deptno': 30}\n",
      "----------------------------------------------\n",
      "<class 'list'>\n",
      "[{'empno': 7521, 'ename': 'WARD', 'job': 'SALESMAN', 'mgr': 7698, 'hiredate': datetime.date(1981, 2, 3), 'sal': 1250, 'comm': 500, 'deptno': 30}, {'empno': 7566, 'ename': 'JONES', 'job': 'MANAGER', 'mgr': 7839, 'hiredate': datetime.date(1981, 3, 2), 'sal': 2975, 'comm': 0, 'deptno': 20}, {'empno': 7654, 'ename': 'MARTIN', 'job': 'SALESMAN', 'mgr': 7698, 'hiredate': datetime.date(1981, 10, 22), 'sal': 1250, 'comm': 1400, 'deptno': 30}]\n",
      "----------------------------------------------\n",
      "<class 'list'>\n",
      "[{'empno': 7698, 'ename': 'BLAKE', 'job': 'MANAGER', 'mgr': 7839, 'hiredate': datetime.date(1981, 5, 1), 'sal': 2850, 'comm': 0, 'deptno': 30}, {'empno': 7782, 'ename': 'CLARK', 'job': 'MANAGER', 'mgr': 7839, 'hiredate': datetime.date(1981, 9, 6), 'sal': 2450, 'comm': 0, 'deptno': 10}, {'empno': 7788, 'ename': 'SCOTT', 'job': 'ANALYST', 'mgr': 7566, 'hiredate': datetime.date(1982, 12, 8), 'sal': 3000, 'comm': 0, 'deptno': 20}, {'empno': 7839, 'ename': 'KING', 'job': 'PRESIDENT', 'mgr': 0, 'hiredate': datetime.date(1981, 11, 17), 'sal': 5000, 'comm': 0, 'deptno': 10}, {'empno': 7844, 'ename': 'TURNER', 'job': 'SALESMAN', 'mgr': 7698, 'hiredate': datetime.date(1984, 10, 8), 'sal': 1500, 'comm': 0, 'deptno': 30}, {'empno': 7876, 'ename': 'ADAMS', 'job': 'CLERK', 'mgr': 7788, 'hiredate': datetime.date(1983, 1, 12), 'sal': 1100, 'comm': 0, 'deptno': 20}, {'empno': 7900, 'ename': 'JAMES', 'job': 'CLERK', 'mgr': 7698, 'hiredate': datetime.date(1981, 12, 3), 'sal': 950, 'comm': 0, 'deptno': 30}, {'empno': 7902, 'ename': 'FORD', 'job': 'ANALYST', 'mgr': 7566, 'hiredate': datetime.date(1981, 12, 13), 'sal': 3000, 'comm': 0, 'deptno': 20}, {'empno': 7934, 'ename': 'MILLER', 'job': 'CLERK', 'mgr': 7782, 'hiredate': datetime.date(1982, 1, 25), 'sal': 1300, 'comm': 0, 'deptno': 10}, {'empno': 1234, 'ename': 'aaa', 'job': 'bbb', 'mgr': None, 'hiredate': datetime.date(2021, 4, 1), 'sal': 1000, 'comm': 0, 'deptno': 10}]\n",
      "----------------------------------------------\n",
      "None\n"
     ]
    }
   ],
   "source": [
    "import pymysql\n",
    "conn = pymysql.connect(host='database-big-a.cljkqcsbb9ok.ap-northeast-2.rds.amazonaws.com',port=3306,\n",
    "                       user='edu',passwd='multi1234!', db='unicodb', cursorclass=pymysql.cursors.DictCursor)\n",
    "try:\n",
    "    cur = conn.cursor()\n",
    "    sql = 'SELECT * FROM emp'\n",
    "    cur.execute(sql)\n",
    "    result = cur.fetchone()\n",
    "    print(type(result))\n",
    "    print(result)\n",
    "    print(\"----------------------------------------------\")\n",
    "    result = cur.fetchone()\n",
    "    print(type(result))\n",
    "    print(result)\n",
    "    print(\"----------------------------------------------\")\n",
    "    result = cur.fetchmany(3)\n",
    "    print(type(result))\n",
    "    print(result)\n",
    "    print(\"----------------------------------------------\")\n",
    "    result = cur.fetchall()\n",
    "    print(type(result))\n",
    "    print(result)\n",
    "    print(\"----------------------------------------------\")\n",
    "    result = cur.fetchone() # 더 없슈!!\n",
    "    print(result)\n",
    "finally:\n",
    "    conn.close()"
   ]
  },
  {
   "cell_type": "code",
   "execution_count": null,
   "metadata": {},
   "outputs": [],
   "source": [
    "import pymysql\n",
    "conn = pymysql.connect(host='database-big-a.cljkqcsbb9ok.ap-northeast-2.rds.amazonaws.com',port=3306,\n",
    "                       user='edu',passwd='multi1234!', db='unicodb', cursorclass=pymysql.cursors.DictCursor)\n",
    "try:\n",
    "    cur = conn.cursor()\n",
    "    print(type(cur))\n",
    "    print(\"-----------------------\")\n",
    "    sql = 'SELECT * FROM emp'\n",
    "    cur.execute(sql)\n",
    "    result = cur.fetchall()\n",
    "    print(type(result))\n",
    "    print(result)\n",
    "    print(\"----------------------------------------------\")\n",
    "    print(type(result[0]))\n",
    "    print(result[0])\n",
    "    print(\"----------------------------------------------\")\n",
    "    print(len(result))\n",
    "    print(len(result[0]))\n",
    "    print(\"----------------------------------------------\")\n",
    "    for row in result:        \n",
    "        print(f'{row[\"empno\"]} {row[\"ename\"]} {row[\"job\"]} {row[\"mgr\"]} {row[\"hiredate\"]} {row[\"sal\"]} {row[\"comm\"]} {row[\"deptno\"]}')\n",
    "finally:\n",
    "    conn.close()"
   ]
  },
  {
   "cell_type": "code",
   "execution_count": null,
   "metadata": {},
   "outputs": [],
   "source": [
    "import pandas as pd"
   ]
  },
  {
   "cell_type": "code",
   "execution_count": null,
   "metadata": {},
   "outputs": [],
   "source": [
    "df = pd.DataFrame(result)\n",
    "df"
   ]
  },
  {
   "cell_type": "code",
   "execution_count": null,
   "metadata": {},
   "outputs": [],
   "source": [
    "import pymysql\n",
    "conn = pymysql.connect(host='database-big-a.cljkqcsbb9ok.ap-northeast-2.rds.amazonaws.com',port=3306,\n",
    "                       user='edu',passwd='multi1234!', db='unicodb', cursorclass=pymysql.cursors.DictCursor)\n",
    "try:\n",
    "    cur = conn.cursor()\n",
    "    print(type(cur))\n",
    "    print(\"-----------------------\")\n",
    "    sql = 'SELECT * FROM emp where deptno = 30 order by sal desc'\n",
    "    cur.execute(sql)\n",
    "    result = cur.fetchall()\n",
    "    print(type(result))\n",
    "    print(result)\n",
    "    print(\"----------------------------------------------\")\n",
    "    print(type(result[0]))\n",
    "    print(result[0])\n",
    "    print(\"----------------------------------------------\")\n",
    "    print(len(result))\n",
    "    print(len(result[0]))\n",
    "    print(\"----------------------------------------------\")\n",
    "    for row in result:        \n",
    "        print(f'{row[\"empno\"]} {row[\"ename\"]} {row[\"job\"]} {row[\"mgr\"]} {row[\"hiredate\"]} {row[\"sal\"]} {row[\"comm\"]} {row[\"deptno\"]}')\n",
    "finally:\n",
    "    conn.close()"
   ]
  },
  {
   "cell_type": "code",
   "execution_count": null,
   "metadata": {},
   "outputs": [],
   "source": [
    "df2 = pd.DataFrame(result)\n",
    "df2"
   ]
  },
  {
   "cell_type": "code",
   "execution_count": null,
   "metadata": {},
   "outputs": [],
   "source": [
    "import pymysql\n",
    "\n",
    "dbServerName    = \"database-big-a.cljkqcsbb9ok.ap-northeast-2.rds.amazonaws.com\"\n",
    "dbUser          = \"edu\"\n",
    "dbPassword      = \"multi1234!\"\n",
    "dbName          = \"unicodb\"\n",
    "charSet         = \"utf8\"\n",
    "cusrorType      = pymysql.cursors.DictCursor\n",
    "\n",
    "connectionObject   = pymysql.connect(host=dbServerName, user=dbUser, password=dbPassword,\n",
    "                                     db=dbName, charset=charSet,cursorclass=cusrorType)\n",
    "\n",
    "try:\n",
    "    cursorObject = connectionObject.cursor()                                     \n",
    "    sqlQuery = \"CREATE TABLE IF NOT EXISTS friend(id int, LastName varchar(32), FirstName varchar(32), DepartmentCode int)\"   \n",
    "    cursorObject.execute(sqlQuery)\n",
    "    sqlQuery = \"show tables\"   \n",
    "    cursorObject.execute(sqlQuery)\n",
    "    rows = cursorObject.fetchall()\n",
    "    for row in rows:\n",
    "        print(row)\n",
    "\n",
    "    insertStatement = \"INSERT INTO friend (id, LastName, FirstName, DepartmentCode) VALUES (1,'KIM','JUNGHYUN',10)\"   \n",
    "    cursorObject.execute(insertStatement)\n",
    "    insertStatement = \"INSERT INTO friend (id, LastName, FirstName, DepartmentCode) VALUES (1,'GO','GILDONG',10)\"   \n",
    "    cursorObject.execute(insertStatement)\n",
    "    insertStatement = \"INSERT INTO friend (id, LastName, FirstName, DepartmentCode) VALUES (3,'GO','HEEDONG',20)\"   \n",
    "    cursorObject.execute(insertStatement)\n",
    "    connectionObject.commit()\n",
    "\n",
    "    sqlQuery = \"select * from friend\"   \n",
    "    cursorObject.execute(sqlQuery)\n",
    "    rows = cursorObject.fetchall()\n",
    "\n",
    "    for row in rows:\n",
    "        print(row)\n",
    "\n",
    "except Exception as e:\n",
    "    print(\"Exeception occured:{}\".format(e))\n",
    "finally:    \n",
    "    connectionObject.close()"
   ]
  },
  {
   "cell_type": "code",
   "execution_count": 28,
   "metadata": {},
   "outputs": [
    {
     "name": "stdout",
     "output_type": "stream",
     "text": [
      "((7369, 'SMITH', 'CLERK', 7902, datetime.date(1980, 12, 17), 800, 0, 20), (7499, 'ALLEN', 'SALESMAN', 7698, datetime.date(1981, 2, 20), 1600, 300, 30), (7521, 'WARD', 'SALESMAN', 7698, datetime.date(1981, 2, 3), 1250, 500, 30), (7566, 'JONES', 'MANAGER', 7839, datetime.date(1981, 3, 2), 2975, 0, 20), (7654, 'MARTIN', 'SALESMAN', 7698, datetime.date(1981, 10, 22), 1250, 1400, 30), (7698, 'BLAKE', 'MANAGER', 7839, datetime.date(1981, 5, 1), 2850, 0, 30), (7782, 'CLARK', 'MANAGER', 7839, datetime.date(1981, 9, 6), 2450, 0, 10), (7788, 'SCOTT', 'ANALYST', 7566, datetime.date(1982, 12, 8), 3000, 0, 20), (7839, 'KING', 'PRESIDENT', 0, datetime.date(1981, 11, 17), 5000, 0, 10), (7844, 'TURNER', 'SALESMAN', 7698, datetime.date(1984, 10, 8), 1500, 0, 30), (7876, 'ADAMS', 'CLERK', 7788, datetime.date(1983, 1, 12), 1100, 0, 20), (7900, 'JAMES', 'CLERK', 7698, datetime.date(1981, 12, 3), 950, 0, 30), (7902, 'FORD', 'ANALYST', 7566, datetime.date(1981, 12, 13), 3000, 0, 20), (7934, 'MILLER', 'CLERK', 7782, datetime.date(1982, 1, 25), 1300, 0, 10), (1234, 'aaa', 'bbb', None, datetime.date(2021, 4, 1), 1000, 0, 10))\n",
      "----------------------------------------------\n",
      "((1, 'KIM', 'JUNGHYUN', 10), (1, 'GO', 'GILDONG', 10), (3, 'GO', 'HEEDONG', 20))\n"
     ]
    }
   ],
   "source": [
    "import pymysql\n",
    "conn = pymysql.connect(host='database-big-a.cljkqcsbb9ok.ap-northeast-2.rds.amazonaws.com',port=3306,user='edu',passwd='multi1234!', db='unicodb')\n",
    "try:\n",
    "    cur = conn.cursor()\n",
    "    sql = 'SELECT * FROM emp'\n",
    "    cur.execute(sql)\n",
    "    result = cur.fetchall()\n",
    "    print(result)\n",
    "    print(\"----------------------------------------------\")\n",
    "    sql = 'SELECT * FROM friend'\n",
    "    cur.execute(sql)\n",
    "    result = cur.fetchall()\n",
    "    print(result)   \n",
    "finally:\n",
    "    conn.close()"
   ]
  },
  {
   "cell_type": "code",
   "execution_count": null,
   "metadata": {},
   "outputs": [],
   "source": []
  }
 ],
 "metadata": {
  "kernelspec": {
   "display_name": "pydatavenv",
   "language": "python",
   "name": "pydatavenv"
  },
  "language_info": {
   "codemirror_mode": {
    "name": "ipython",
    "version": 3
   },
   "file_extension": ".py",
   "mimetype": "text/x-python",
   "name": "python",
   "nbconvert_exporter": "python",
   "pygments_lexer": "ipython3",
   "version": "3.8.8"
  }
 },
 "nbformat": 4,
 "nbformat_minor": 4
}
