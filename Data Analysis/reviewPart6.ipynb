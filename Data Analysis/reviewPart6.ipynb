{
 "cells": [
  {
   "cell_type": "markdown",
   "metadata": {},
   "source": [
    "# 함수 매핑\n",
    "## 개별 원소에 함수 매핑\n",
    "### 예제 6-1"
   ]
  },
  {
   "cell_type": "code",
   "execution_count": 19,
   "metadata": {},
   "outputs": [
    {
     "name": "stdout",
     "output_type": "stream",
     "text": [
      "    age     fare  ten\n",
      "0  22.0   7.2500   10\n",
      "1  38.0  71.2833   10\n",
      "2  26.0   7.9250   10\n",
      "3  35.0  53.1000   10\n",
      "4  35.0   8.0500   10\n",
      "\n",
      "\n",
      "20\n",
      "20\n",
      "0    32.0\n",
      "1    48.0\n",
      "2    36.0\n",
      "3    45.0\n",
      "4    45.0\n",
      "Name: age, dtype: float64\n",
      "\n",
      "\n",
      "0    32.0\n",
      "1    48.0\n",
      "2    36.0\n",
      "3    45.0\n",
      "4    45.0\n",
      "Name: age, dtype: float64\n",
      "\n",
      "0    32.0\n",
      "1    48.0\n",
      "2    36.0\n",
      "3    45.0\n",
      "4    45.0\n",
      "Name: age, dtype: float64\n"
     ]
    }
   ],
   "source": [
    "import seaborn as sns\n",
    "\n",
    "titanic = sns.load_dataset('titanic')\n",
    "df = titanic.loc[:, ['age', 'fare']]\n",
    "df['ten'] = 10\n",
    "print(df.head())\n",
    "print('\\n')\n",
    "\n",
    "def add_10(n):\n",
    "    return n+10\n",
    "\n",
    "def add_two_obj(a,b):\n",
    "    return a+b\n",
    "\n",
    "print(add_10(10))\n",
    "print(add_two_obj(10,10))\n",
    "\n",
    "sr1 = df['age'].apply(add_10)\n",
    "print(sr1.head())\n",
    "print('\\n')\n",
    "\n",
    "sr2 = df['age'].apply(add_two_obj, b = 10) # b 인자를 명시적으로 적어줘야 정상 작동\n",
    "print(sr2.head())\n",
    "print()\n",
    "\n",
    "sr3 = df['age'].apply(lambda x: add_10(x))\n",
    "print(sr3.head())"
   ]
  },
  {
   "cell_type": "markdown",
   "metadata": {},
   "source": [
    "### 예제 6-2"
   ]
  },
  {
   "cell_type": "code",
   "execution_count": 17,
   "metadata": {},
   "outputs": [
    {
     "name": "stdout",
     "output_type": "stream",
     "text": [
      "    age     fare\n",
      "0  22.0   7.2500\n",
      "1  38.0  71.2833\n",
      "2  26.0   7.9250\n",
      "3  35.0  53.1000\n",
      "4  35.0   8.0500\n",
      "\n",
      "    age     fare\n",
      "0  32.0  17.2500\n",
      "1  48.0  81.2833\n",
      "2  36.0  17.9250\n",
      "3  45.0  63.1000\n",
      "4  45.0  18.0500\n"
     ]
    }
   ],
   "source": [
    "import seaborn as sns\n",
    "\n",
    "ti = sns.load_dataset('titanic')\n",
    "df = ti.loc[:,['age', 'fare']]\n",
    "print(df.head())\n",
    "print()\n",
    "\n",
    "def add_10(n):\n",
    "    return n+10\n",
    "\n",
    "df_map = df.applymap(add_10)\n",
    "print(df_map.head())"
   ]
  }
 ],
 "metadata": {
  "kernelspec": {
   "display_name": "pydatavenv",
   "language": "python",
   "name": "pydatavenv"
  },
  "language_info": {
   "codemirror_mode": {
    "name": "ipython",
    "version": 3
   },
   "file_extension": ".py",
   "mimetype": "text/x-python",
   "name": "python",
   "nbconvert_exporter": "python",
   "pygments_lexer": "ipython3",
   "version": "3.8.8"
  }
 },
 "nbformat": 4,
 "nbformat_minor": 4
}
