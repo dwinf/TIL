{
 "cells": [
  {
   "cell_type": "markdown",
   "metadata": {},
   "source": [
    "# 정처기 이후 다시 공부하기 위해 데이터 시각화~분석 복습!"
   ]
  },
  {
   "cell_type": "code",
   "execution_count": 23,
   "metadata": {},
   "outputs": [
    {
     "ename": "IndentationError",
     "evalue": "unindent does not match any outer indentation level (<tokenize>, line 47)",
     "output_type": "error",
     "traceback": [
      "\u001b[1;36m  File \u001b[1;32m\"<tokenize>\"\u001b[1;36m, line \u001b[1;32m47\u001b[0m\n\u001b[1;33m    print(\"다운로드중....\\n\\n\\n\")\u001b[0m\n\u001b[1;37m    ^\u001b[0m\n\u001b[1;31mIndentationError\u001b[0m\u001b[1;31m:\u001b[0m unindent does not match any outer indentation level\n"
     ]
    }
   ],
   "source": [
    "#EYouTube('https://www.youtube.com/watch?v=2HA8jsHFrss').streams.first().download()\n",
    "\n",
    "import pytube \n",
    "import sys \n",
    "import os \n",
    "\n",
    "video_list = [] #비디오리스트 \n",
    "source = \".\\\\\" #저장경로 \n",
    "\n",
    "while True: \n",
    "    print(\"명령어를 입력하세요\\nmp4다운로드 -> 1\\nmp3다운로드 -> 2\\n경로지정 -> 3\\n나가기 -> 4\",end=\"\\n>> \") \n",
    "    while True: \n",
    "        inp = str(input()) \n",
    "        if inp == \"3\": \n",
    "            ip = str(input(\"경로를 입력하세요>> \")) \n",
    "            source=ip \n",
    "        if inp == \"4\": \n",
    "            sys.exit() \n",
    "            \n",
    "        if inp == \"1\": \n",
    "            while True: \n",
    "                ipp = str(input(\"url을 입력하세요('download'입력시 다운로드진행)>> \")) \n",
    "                if ipp == \"download\": #'download'입력시 break\n",
    "                    os.system(\"cls\") \n",
    "                    break \n",
    "                video_list.append(ipp) #링크넣기 \n",
    "            \n",
    "                print(\"다운로드중....\\n\\n\\n\") \n",
    "            \n",
    "                for i, video in enumerate(video_list): #실질적으로 유튜브다운로드가일어나는 구간 \n",
    "                    yt = pytube.YouTube(video) \n",
    "                    stream = yt.streams.first() ##저화질 \n",
    "                    #stream = yt.streams.get_by_itag(137) ##고화질 \n",
    "                    stream.download(source) \n",
    "                \n",
    "                print(\"다운로드 성공!\\n\\n\") \n",
    "                break \n",
    "                \n",
    "        if inp == \"2\": \n",
    "             while True: \n",
    "                ipp = str(input(\"url을 입력하세요('download'입력시 다운로드진행)>> \")) \n",
    "                  if ipp == \"download\": \n",
    "                    os.system(\"cls\")\n",
    "                    break \n",
    "                video_list.append(ipp) \n",
    "                    \n",
    "            print(\"다운로드중....\\n\\n\\n\") \n",
    "        \n",
    "        for i, video in enumerate(video_list): \n",
    "            yt = pytube.YouTube(video) \n",
    "            stream = yt.streams.get_audio_only() \n",
    "            stream.download(source) \n",
    "            \n",
    "        print(\"다운로드 성공!\\n\\n\") \n",
    "        break \n",
    "            \n",
    "    video_list.clear() \n",
    "    break\n",
    "\n"
   ]
  },
  {
   "cell_type": "code",
   "execution_count": 15,
   "metadata": {},
   "outputs": [],
   "source": [
    "from pytube import Playlist, YouTube \n",
    "from moviepy.editor import * \n",
    "\n",
    "fpath = lambda x: './src/' + x \n",
    "\n",
    "def ydown(url: str, prefix: str = \"\"): \n",
    "    yt = YouTube(url) \n",
    "    vpath = ( \n",
    "        yt.streams.filter(adaptive=True, file_extension=\"mp4\", only_video=True) \n",
    "        .order_by(\"resolution\") \n",
    "        .desc() \n",
    "        .first() \n",
    "        .download(output_path=fpath(\"video/\"), filename_prefix=f\"{prefix} \") \n",
    "    ) \n",
    "    apath = ( \n",
    "        yt.streams.filter(adaptive=True, file_extension=\"mp4\", only_audio=True) \n",
    "        .order_by(\"abr\") \n",
    "        .desc() \n",
    "        .first() \n",
    "        .download(output_path=fpath(\"audio/\"), filename_prefix=f\"{prefix} \") \n",
    "    )\n",
    "    \n",
    "    v = VideoFileClip(vpath) \n",
    "    a = AudioFileClip(apath) \n",
    "    \n",
    "    v.audio = a \n",
    "    v.write_videofile(fpath(f\"1080/{vpath.split('/')[-1]}\")) \n",
    "    \n",
    "    def playlistdown(url: str, prefix: str = \"\"): \n",
    "        pl = Playlist(url) \n",
    "        \n",
    "        for v in pl.video_urls: \n",
    "            try: \n",
    "                ydown(v, prefix)\n",
    "            except: \n",
    "                continue\n",
    "\n"
   ]
  },
  {
   "cell_type": "code",
   "execution_count": null,
   "metadata": {},
   "outputs": [],
   "source": []
  }
 ],
 "metadata": {
  "kernelspec": {
   "display_name": "Python 3",
   "language": "python",
   "name": "python3"
  },
  "language_info": {
   "codemirror_mode": {
    "name": "ipython",
    "version": 3
   },
   "file_extension": ".py",
   "mimetype": "text/x-python",
   "name": "python",
   "nbconvert_exporter": "python",
   "pygments_lexer": "ipython3",
   "version": "3.6.13"
  }
 },
 "nbformat": 4,
 "nbformat_minor": 4
}
